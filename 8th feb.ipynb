{
 "cells": [
  {
   "cell_type": "markdown",
   "id": "82989346-a9af-444e-9223-89ae28d1b218",
   "metadata": {},
   "source": [
    "Q1.\n",
    "Abstraction is the process by which data and function are defined in such a way that only essential details can be seen and unnecessary implementation are hidden is called abstaraction or data abstraction.\n",
    "\n",
    "Hiding complex details or implementations and showing only signatures to user.\n",
    "\n",
    "Example-- ATM machine In ATM machine there are number of impementations of algorithms are done through coding but this is all the backend part and when user uses the machine it doesn't matter what was done inside it ,matters only the transactions. so the user can use the signatures which was shown for thiers useful needs"
   ]
  },
  {
   "cell_type": "markdown",
   "id": "39f57695-6dbd-40ed-8ccd-6afaa51ea507",
   "metadata": {},
   "source": [
    "Q2.\n",
    "Abstraction It deals with only relevant details and hiding the irrelevent details from the user. It refers to idea of hiding data which is not required for presentation purposes. It is implemented using abstract class and interface. Ex-- outer look of ATM machine like its display and keypad.\n",
    "\n",
    "Encapsulation It binds the data and information together into single entity to protect the data from external sources. It hides the data and code in order to restrict unwanted access. Information is hidden inside a capsule. Ex-- Inner implementation detail of a mobile phone how keypad button and display are connect witheach other."
   ]
  },
  {
   "cell_type": "markdown",
   "id": "86ba7185-b6d7-49a1-9804-b6cfb4dbb103",
   "metadata": {},
   "source": [
    "Q3.\n",
    "abc module in python provides the infrastructure for defining abstract classes. abc module is used to import ABC class. from ABC class we can make the abstract classes. ABC class is also known as Meta class which means a class derived from it can become a abstract class."
   ]
  },
  {
   "cell_type": "markdown",
   "id": "66471e48-5945-4669-8f05-5d803ec856b8",
   "metadata": {},
   "source": [
    "Q4.\n",
    "Data abstraction can be achieved as: 1-- we have to import ABC class from abc module. 2-- we then create a Parent class and inherits the ABC class in it then only it became a abstract class. 3-- Then we have to define methods in it but there are two types of methods (a) abstarct method bys using decorator @abstractmethod but here we don't define the instances. the instances are defined in child class. and (b) concrete method which is basically a normal method whose instances can be defined in abstract class. 4-- Then we have make a child class and inherits the parent class. 5-- now we have to define the abstract method here. 6-- now we have to make the objects of a child class and peforms the actions by using it."
   ]
  },
  {
   "cell_type": "markdown",
   "id": "2ae91490-185c-4ee0-a1b7-70bab21c1476",
   "metadata": {},
   "source": [
    "Q5. No, we can't create the instance of an abstract class. because abstract class creates a the blueprint of a class and a the method implementation was done inside their subclasses. This subclasses has to be work according to abstract classes otherwise it throws an error"
   ]
  },
  {
   "cell_type": "code",
   "execution_count": null,
   "id": "825abd07-6c8f-4dd1-b6c9-e906bd2e8c7a",
   "metadata": {},
   "outputs": [],
   "source": []
  }
 ],
 "metadata": {
  "kernelspec": {
   "display_name": "Python 3 (ipykernel)",
   "language": "python",
   "name": "python3"
  },
  "language_info": {
   "codemirror_mode": {
    "name": "ipython",
    "version": 3
   },
   "file_extension": ".py",
   "mimetype": "text/x-python",
   "name": "python",
   "nbconvert_exporter": "python",
   "pygments_lexer": "ipython3",
   "version": "3.10.8"
  }
 },
 "nbformat": 4,
 "nbformat_minor": 5
}
